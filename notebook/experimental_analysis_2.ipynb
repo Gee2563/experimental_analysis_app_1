{
 "cells": [
  {
   "cell_type": "markdown",
   "id": "99fe382d",
   "metadata": {},
   "source": [
    "# Experiment Design and Analysis\n",
    "\n",
    "The objective of this notebook is to explore Trust Game & First-Price auction theory using real world data.\n",
    "\n",
    "We'll be using the following dataset for notebook exploration:\n",
    "https://www.sciencedirect.com/science/article/abs/pii/S0022053107000178\n",
    "\n",
    "## Local files:\n",
    "\n",
    "Below, please amend the inputs according to your pathways/needs.\n",
    "\n"
   ]
  },
  {
   "cell_type": "code",
   "execution_count": null,
   "id": "a76c783e",
   "metadata": {},
   "outputs": [],
   "source": [
    "TRUST_DATA_PATH = \"\"\n",
    "FPA_DATA_PATH = \"\"\n",
    "README_PATH = \"\""
   ]
  },
  {
   "cell_type": "code",
   "execution_count": null,
   "id": "904a6b59",
   "metadata": {},
   "outputs": [],
   "source": [
    "import pandas as pd\n",
    "import numpy as np\n",
    "import statsmodels.api as sm\n",
    "import statsmodels.stats.api as sms\n",
    "from scipy import stats\n",
    "\n",
    "trust_data = pd.read_csv(TRUST_DATA_PATH)\n",
    "fpa_data = pd.read_csv(FPA_DATA_PATH)\n",
    "\n",
    "\n",
    "\n"
   ]
  },
  {
   "cell_type": "code",
   "execution_count": null,
   "id": "264008b5",
   "metadata": {},
   "outputs": [],
   "source": [
    "#uncomment the below line to view readme files for this dataset (includes explanation of variable names)\n",
    "#!cat README_PATH\n",
    "\n",
    "# uncomment the below line to view snippet of csv file\n",
    "# trust_data.head()\n",
    "# fpa_data.head()"
   ]
  },
  {
   "cell_type": "markdown",
   "id": "55875675",
   "metadata": {},
   "source": [
    "For the Trust Game, subjects are grouped in pairs, paired with one assigned the role of an investor and another a recipient. Let's examine the correlation between the amounts the investors invest and the amounts the recipients return"
   ]
  },
  {
   "cell_type": "code",
   "execution_count": null,
   "id": "7296860d",
   "metadata": {},
   "outputs": [],
   "source": [
    "def inv_rec_corrcoef(provided_data, dec_col, decision_1, decision_2, cols_to_check):\n",
    "    \"\"\"\n",
    "    Compute the inverse of the repeated measures correlation coefficient between two decisions\n",
    "    across specified columns in the provided DataFrame.\n",
    "    Parameters:\n",
    "    provided_data (pd.DataFrame): The input DataFrame containing the data.\n",
    "    dec_col (str): The name of the column representing different decisions.\n",
    "    decision_1 (str): The name of the first decision column.\n",
    "    decision_2 (str): The name of the second decision column.\n",
    "    cols_to_check (list): List of column names to check for repeated measures.\n",
    "    Returns:\n",
    "    float: The inverse of the repeated measures correlation coefficient.\n",
    "    \"\"\"\n",
    "\n",
    "    df = provided_data.copy()\n",
    "    df.columns = df.columns.str.strip()\n",
    "    df.columns = df.columns.str.replace(r\"\\s+\", \" \", regex=True)\n",
    "\n",
    "    dec_1 = df[df[dec_col] == decision_1][cols_to_check]\n",
    "    dec_2 = df[df[dec_col] == decision_2][cols_to_check]\n",
    "\n",
    "    merged = dec_1.merge(dec_2, on=cols_to_check[:1], suffixes=('_1', '_2'))\n",
    "    \n",
    "    r = np.corrcoef(merged[f'{cols_to_check[1]}_1'], merged[f'{cols_to_check[1]}_2'])[0, 1]\n",
    "    return np.float64(round(r, 2))"
   ]
  },
  {
   "cell_type": "code",
   "execution_count": null,
   "id": "b2769ccb",
   "metadata": {},
   "outputs": [],
   "source": [
    "inv_rec_corrcoef(provided_data=trust_data,\n",
    "                dec_col='decision type',\n",
    "                decision_1=\"INVEST\",\n",
    "                decision_2=\"RETURN\",\n",
    "                cols_to_check=['Period','group #','decision']\n",
    "                )\n"
   ]
  },
  {
   "cell_type": "markdown",
   "id": "6e980c97",
   "metadata": {},
   "source": [
    "For the first-price auctions experiment, there are ten experimental sessions, with eight subjects per session. In this context, subjects are tasked with completing auction and lottery (Holt-Laury 2002) tasks in two orders. In five of the ten sessions, subjects first complete a lottery task, followed by 30 rounds of auctions. In the other five sessions, subjects first complete 30 rounds of auctions, followed by a lottery task. At the end of each session, subjects complete a demographics survey. The data sets extract the first period auction data for each treatment."
   ]
  },
  {
   "cell_type": "code",
   "execution_count": null,
   "id": "6cbabd0f",
   "metadata": {},
   "outputs": [],
   "source": [
    "def ate_fpa_payoff(provided_data, bid, val, treatment, k1_8_lot_exp='k1_8_lot_exp', k1_8_exp_lot='k1_8_exp_lot'):\n",
    "    \"\"\"\n",
    "    Compute the average treatment effect (ATE) on the bidval_ratio outcome variable\n",
    "    between the two treatment groups.\n",
    "    Parameters\n",
    "    ----------\n",
    "    provided_data : pd.DataFrame\n",
    "        The input data containing the necessary columns.\n",
    "    required_cols : list\n",
    "        A list of required column names that must be present in the provided_data.\n",
    "    treatment_cols : list\n",
    "        A list of treatment column names to be used for the analysis.\n",
    "    \"\"\"\n",
    "\n",
    "    # Ensure input is a DataFrame\n",
    "    if not isinstance(provided_data, pd.DataFrame):\n",
    "        raise TypeError(\"Input must be a pandas DataFrame.\")\n",
    "    provided_data = provided_data.copy()\n",
    "\n",
    "    # Ensure bid,val,treatment are strings\n",
    "    if not all(isinstance(col, str) for col in [bid, val, treatment]):\n",
    "        raise TypeError(\"Column names must be strings.\")\n",
    "    \n",
    "    # 1) Create bidval_ratio in-place\n",
    "    provided_data['bidval_ratio'] = provided_data[bid] / provided_data[val]\n",
    "  \n",
    "    # 2) Compute means\n",
    "    lot_auc = provided_data.loc[provided_data['treatment']==k1_8_lot_exp, 'bidval_ratio'].mean()\n",
    "    auc_lot = provided_data.loc[provided_data['treatment']==k1_8_exp_lot, 'bidval_ratio'].mean()\n",
    "\n",
    "    # 3) Return results DataFrame\n",
    "    return pd.DataFrame({\n",
    "        'lot_auc_mean':  [round(lot_auc,  2)],\n",
    "        'auc_lot_mean':  [round(auc_lot,  2)],\n",
    "        'diff in means':[round(lot_auc - auc_lot, 2)]\n",
    "    })\n"
   ]
  },
  {
   "cell_type": "markdown",
   "id": "1ad1edea",
   "metadata": {},
   "source": [
    "In this case, say that the control for the first-price auction experiment is the order in which subjects complete the lottery task followed by the auction task (k1_8_lot_exp) and the outcome variable we want to measure is the bid-value ratio (b/v)."
   ]
  },
  {
   "cell_type": "code",
   "execution_count": null,
   "id": "1ec63ca8",
   "metadata": {},
   "outputs": [],
   "source": [
    "display(ate_fpa_payoff(provided_data=fpa_data,\n",
    "                      bid='b',\n",
    "                      val='v',\n",
    "                      treatment='treatment',\n",
    "                      k1_8_lot_exp='k1_8_lot_exp',\n",
    "                      k1_8_exp_lot='k1_8_exp_lot'\n",
    "                        ))"
   ]
  },
  {
   "cell_type": "markdown",
   "id": "6d12644f",
   "metadata": {},
   "source": [
    "We can also use a more objective measure to identify if our treatment groups were properly randomized.\n",
    "\n"
   ]
  },
  {
   "cell_type": "code",
   "execution_count": null,
   "id": "26d34439",
   "metadata": {},
   "outputs": [],
   "source": [
    "def objective_randomization(provided_data, variables):\n",
    "    \"\"\"\n",
    "    \n",
    "    Function to perform t-tests for given variables between two treatment groups in a DataFrame.\n",
    "    Args:\n",
    "        provided_data (pd.DataFrame): DataFrame containing the data.\n",
    "        variables (list): List of variable names to perform t-tests on.\n",
    "    \n",
    "    Returns:\n",
    "        pd.DataFrame: DataFrame containing t-statistics and p-values for each variable.\n",
    "\n",
    "    \n",
    "    \"\"\"\n",
    "\n",
    "    ttest_df = pd.DataFrame(columns=['variable','t-statistic','p-value'])\n",
    "    ttest_df['variable'] = variables\n",
    "    \n",
    "    g1 = provided_data[provided_data['treatment']=='k1_8_lot_exp']\n",
    "    g2 = provided_data[provided_data['treatment']=='k1_8_exp_lot']\n",
    "\n",
    "    for var in ttest_df['variable']:\n",
    "        arr1 = g1[var].dropna()\n",
    "        arr2 = g2[var].dropna()\n",
    "        t_stat, p_val = stats.ttest_ind(arr1, arr2, equal_var=False)\n",
    "        ttest_df.loc[ttest_df['variable']==var, 't-statistic'] = round(t_stat, 2)\n",
    "        ttest_df.loc[ttest_df['variable']==var, 'p-value']     = round(p_val, 2)\n",
    "\n",
    "    ttest_df.set_index('variable', inplace=True)\n",
    "    return ttest_df\n"
   ]
  },
  {
   "cell_type": "markdown",
   "id": "45f8011a",
   "metadata": {},
   "source": [
    "Let's analyze the differences between the two treatment groups (k1_8_exp_lot and k1_8_lot_exp) for the female, age, and hispanic demographic variables by completing the following objective_randomization function. (4 points)"
   ]
  },
  {
   "cell_type": "code",
   "execution_count": null,
   "id": "3f12f1c3",
   "metadata": {},
   "outputs": [],
   "source": [
    "objective_randomization(provided_data=fpa_data,\n",
    "                         variables=['age', 'gender'])\n"
   ]
  },
  {
   "cell_type": "markdown",
   "id": "568065cb",
   "metadata": {},
   "source": [
    "We would expect subjects to bid a certain fraction of their value in a first-price sealed bid auction depending on their risk attitudes (e.g., risk neutral, risk averse). Let's explore what effect gender has on bid-value ratios when controlled with risk. This time, let's calculate this average treatment effect using an ordinary least-squares regression."
   ]
  },
  {
   "cell_type": "code",
   "execution_count": null,
   "id": "3d6a3786",
   "metadata": {},
   "outputs": [],
   "source": [
    "def ols_riskgender_on_bidvalue(df,bid='b', val='v', female='female', ra='ra'):\n",
    "    \"\"\"\n",
    "    Simple OLS regression to evaluate how subjects' risk attitudes and gender affect their bid/value ratio.\n",
    "    inputs:\n",
    "    df (pd.DataFrame): DataFrame containing the data.\n",
    "    bid (str): Column name for bids.\n",
    "    val (str): Column name for values\n",
    "    female (str): Column name\n",
    "    ra (str): Column name for risk attitudes\n",
    "    returns:\n",
    "    statsmodels summary object with OLS regression results.\n",
    "    \"\"\"\n",
    "    df = df.copy()\n",
    "    df.columns = df.columns.str.strip()\n",
    "    df.columns = df.columns.str.replace(r\"\\s+\", \" \", regex=True)\n",
    "    required = {bid, val, female, ra}\n",
    "    # 1) Ensure required columns are present\n",
    "    if not required.issubset(df.columns):\n",
    "        missing = required - set(df.columns)\n",
    "        raise ValueError(f\"Missing required columns: {missing}\")\n",
    "    \n",
    "    # 2) Drop any rows where those columns are NaN\n",
    "    df = df.dropna(subset=list(required))\n",
    "\n",
    "    # 3) Create bid/value ratio\n",
    "    if 'bidval_ratio' not in df.columns:\n",
    "        df = df.assign(bidval_ratio=lambda d: d[bid] / d[val])\n",
    "\n",
    "    # 4) Build design matrix (with intercept) and response\n",
    "    X = df[[female, ra]]\n",
    "    X = sm.add_constant(X)\n",
    "    y = df['bidval_ratio']\n",
    "\n",
    "    # 5) Fit OLS and return the summary object\n",
    "    model = sm.OLS(y, X).fit()\n",
    "    return model.summary()"
   ]
  },
  {
   "cell_type": "code",
   "execution_count": null,
   "id": "57500af6",
   "metadata": {},
   "outputs": [],
   "source": [
    "ols_riskgender_on_bidvalue(fpa_data)"
   ]
  },
  {
   "cell_type": "markdown",
   "id": "d5d647a0",
   "metadata": {},
   "source": [
    "Let's make a simple function used to extract the model's coefficients and p-values and return a presentable dataframe.\n"
   ]
  },
  {
   "cell_type": "code",
   "execution_count": null,
   "id": "889b77d3",
   "metadata": {},
   "outputs": [],
   "source": [
    "def ols_riskgender_on_bidvalue_df(data):\n",
    "    \"\"\"\n",
    "    Extract model parameters and p-values from a statsmodels OLS regression result and return a presentable dataframe.\n",
    "    inputs:\n",
    "    data: the dataframe containing the data.\n",
    "    returns:\n",
    "    a dataframe with the model's parameters and p-values.\n",
    "    \"\"\"\n",
    "    model = ols_riskgender_on_bidvalue(data)\n",
    "    params = model.params\n",
    "    pvals = model.pvalues\n",
    "    results_df = pd.DataFrame({\n",
    "        'variable': params.index,\n",
    "        'coefficient': np.round(params, 2),\n",
    "        'p-value':     np.round(pvals, 2)\n",
    "    }).set_index('variable')\n",
    "    return results_df"
   ]
  },
  {
   "cell_type": "code",
   "execution_count": null,
   "id": "b739f6fb",
   "metadata": {},
   "outputs": [],
   "source": [
    "ols_riskgender_on_bidvalue_df(fpa_data)"
   ]
  },
  {
   "cell_type": "markdown",
   "id": "295f7bd8",
   "metadata": {},
   "source": [
    "Let's check what happens when we remove  the risk attitudes variable from the model, does it have a significant effect on how gender contributes to bid/value ratios"
   ]
  },
  {
   "cell_type": "code",
   "execution_count": null,
   "id": "1ae72d5d",
   "metadata": {},
   "outputs": [],
   "source": [
    "def ols_gender_on_bidvalue_df_no_ra(data, bid='b', value ='v',gender='female'):\n",
    "    \"\"\"\n",
    "    Extract model parameters and p-values from a statsmodels OLS regression result and return a presentable dataframe.\n",
    "    inputs:\n",
    "    data: the dataframe containing the data.\n",
    "    returns:\n",
    "    a dataframe with the model's parameters and p-values.\n",
    "    \"\"\"\n",
    "    df = data.copy()\n",
    "    df['bidval_ratio'] = df[bid] / df[value] if 'bidval_ratio' not in df.columns else df['bidval_ratio']\n",
    "    X = sm.add_constant(df[[gender]])\n",
    "    y = df['bidval_ratio']\n",
    "    model = sm.OLS(y, X).fit()\n",
    "    params = model.params\n",
    "    pvals = model.pvalues\n",
    "    results_df = pd.DataFrame({\n",
    "        'variable': params.index,\n",
    "        'coefficient': np.round(params, 2),\n",
    "        'p-value':     np.round(pvals, 2)\n",
    "    }).set_index('variable')\n",
    "    return results_df"
   ]
  },
  {
   "cell_type": "code",
   "execution_count": null,
   "id": "e69c35b1",
   "metadata": {},
   "outputs": [],
   "source": [
    "ols_gender_on_bidvalue_df_no_ra(fpa_data)\n"
   ]
  },
  {
   "cell_type": "markdown",
   "id": "a8e03b5a",
   "metadata": {},
   "source": []
  }
 ],
 "metadata": {
  "language_info": {
   "name": "python"
  }
 },
 "nbformat": 4,
 "nbformat_minor": 5
}
