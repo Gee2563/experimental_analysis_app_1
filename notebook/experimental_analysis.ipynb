{
 "cells": [
  {
   "cell_type": "markdown",
   "id": "237d6c7d",
   "metadata": {},
   "source": [
    "# Experiment Design and Analysis\n",
    "\n",
    "The objective of this repo is to:\n",
    "Apply theory of experiment design and knowledge of analysis techniques to real experiment data.\n",
    "\n",
    "## Local files:\n",
    "\n",
    "Below, please amend the inputs according to your pathways/needs.\n",
    "\n",
    "We'll be using the following dataset for notebook exploration:\n",
    "https://www.sciencedirect.com/science/article/abs/pii/S0022053107000178\n"
   ]
  },
  {
   "cell_type": "code",
   "execution_count": null,
   "id": "72f65bb6",
   "metadata": {},
   "outputs": [],
   "source": [
    "DATA_PATH = \"\"\n",
    "README_PATH = \"\"\n"
   ]
  },
  {
   "cell_type": "code",
   "execution_count": null,
   "id": "e61bf8eb",
   "metadata": {},
   "outputs": [],
   "source": [
    "import pandas as pd\n",
    "import statsmodels.api as sm\n",
    "import statsmodels.stats.api as sms\n",
    "from scipy import stats\n",
    "\n",
    "\n",
    "data = pd.read_csv(DATA_PATH)\n",
    "\n"
   ]
  },
  {
   "cell_type": "code",
   "execution_count": null,
   "id": "fc81e6af",
   "metadata": {},
   "outputs": [],
   "source": [
    "#if applicable:\n",
    "#uncomment the below line to view readme file for this dataset (includes explanation of variable names)\n",
    "#!cat README_PATH\n",
    "\n",
    "\n",
    "#uncomment the below line to view snippet of csv file\n",
    "# data.head()"
   ]
  },
  {
   "cell_type": "code",
   "execution_count": null,
   "id": "0151edff",
   "metadata": {},
   "outputs": [],
   "source": [
    "def stats_calculator(provided_data, variables):\n",
    "    \"\"\"\n",
    "    Function to calculate basic statistics for given variables in a DataFrame.\n",
    "    Args:\n",
    "        provided_data (pd.DataFrame): DataFrame containing the data.\n",
    "        columns (list): List of column names to calculate statistics for.\n",
    "        variables (list): List of variable names corresponding to the columns.\n",
    "        stats_df_cols (list): List of statistic names to be used as columns in the output DataFrame.\n",
    "    \n",
    "    \"\"\"\n",
    "    stats_df = pd.DataFrame(columns=['variable','mean','std. dev.','max','min'])\n",
    "    stats_df['variable'] = variables\n",
    "    for var in variables:\n",
    "        col = provided_data[var].dropna()\n",
    "        stats_df.loc[stats_df['variable']==var, 'mean']    = round(col.mean(), 2)\n",
    "        stats_df.loc[stats_df['variable']==var, 'std. dev.'] = round(col.std(),  2)\n",
    "        stats_df.loc[stats_df['variable']==var, 'max']     = round(col.max(),  2)\n",
    "        stats_df.loc[stats_df['variable']==var, 'min']     = round(col.min(),  2)\n",
    "\n",
    "    stats_df.set_index('variable', inplace=True)\n",
    "    return stats_df"
   ]
  },
  {
   "cell_type": "markdown",
   "id": "c976578d",
   "metadata": {},
   "source": [
    "We can use the function to check that the statistics for the control group are similar to those of the treatment group. In order to do that, we will need one dataframe for the control and one for the treatment group. Those are created in the next cell. "
   ]
  },
  {
   "cell_type": "code",
   "execution_count": null,
   "id": "82470e83",
   "metadata": {},
   "outputs": [],
   "source": [
    "control = data[data['treatment'] == 'k1_8_lot_exp']\n",
    "treatment = data[data['treatment'] == 'k1_8_exp_lot']\n",
    "\n",
    "display(stats_calculator(control))\n",
    "display(stats_calculator(treatment))"
   ]
  },
  {
   "cell_type": "markdown",
   "id": "d502921b",
   "metadata": {},
   "source": [
    "We can also use a more objective measure to identify if our treatment groups were properly randomized.\n",
    "\n"
   ]
  },
  {
   "cell_type": "code",
   "execution_count": null,
   "id": "44b52de1",
   "metadata": {},
   "outputs": [],
   "source": [
    "def objective_randomization(provided_data, variables):\n",
    "    \"\"\"\n",
    "    \n",
    "    Function to perform t-tests for given variables between two treatment groups in a DataFrame.\n",
    "    Args:\n",
    "        provided_data (pd.DataFrame): DataFrame containing the data.\n",
    "        variables (list): List of variable names to perform t-tests on.\n",
    "    \n",
    "    Returns:\n",
    "        pd.DataFrame: DataFrame containing t-statistics and p-values for each variable.\n",
    "\n",
    "    \n",
    "    \"\"\"\n",
    "\n",
    "    ttest_df = pd.DataFrame(columns=['variable','t-statistic','p-value'])\n",
    "    ttest_df['variable'] = variables\n",
    "    \n",
    "    g1 = provided_data[provided_data['treatment']=='k1_8_lot_exp']\n",
    "    g2 = provided_data[provided_data['treatment']=='k1_8_exp_lot']\n",
    "\n",
    "    for var in ttest_df['variable']:\n",
    "        arr1 = g1[var].dropna()\n",
    "        arr2 = g2[var].dropna()\n",
    "        t_stat, p_val = stats.ttest_ind(arr1, arr2, equal_var=False)\n",
    "        ttest_df.loc[ttest_df['variable']==var, 't-statistic'] = round(t_stat, 2)\n",
    "        ttest_df.loc[ttest_df['variable']==var, 'p-value']     = round(p_val, 2)\n",
    "\n",
    "    ttest_df.set_index('variable', inplace=True)\n",
    "    return ttest_df\n"
   ]
  },
  {
   "cell_type": "markdown",
   "id": "364fc5e2",
   "metadata": {},
   "source": [
    "Let's analyze the differences between the two treatment groups (k1_8_exp_lot and k1_8_lot_exp) for the female, age, and hispanic demographic variables by completing the following objective_randomization function. (4 points)"
   ]
  },
  {
   "cell_type": "code",
   "execution_count": null,
   "id": "1f32945e",
   "metadata": {},
   "outputs": [],
   "source": [
    "objective_randomization(data)\n"
   ]
  }
 ],
 "metadata": {
  "language_info": {
   "name": "python"
  }
 },
 "nbformat": 4,
 "nbformat_minor": 5
}
